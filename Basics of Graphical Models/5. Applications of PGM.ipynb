{
 "cells": [
  {
   "cell_type": "markdown",
   "id": "6c9e96d3-c5fb-4c09-953c-39118e9d0fc8",
   "metadata": {},
   "source": [
    "## Plate Notation\n",
    "\n",
    "<center><img src = \"./img/week5_1.png\" width = \"550px;\"/></center>\n",
    "\n",
    "$$\\large \\text{박스 내 } X_j \\text{가 } \\text{ D개 존재}$$"
   ]
  },
  {
   "cell_type": "markdown",
   "id": "21d689be-e392-4a9f-b0b0-b5d04dbf8b1b",
   "metadata": {},
   "source": [
    "### Gaussian Mixture Models\n",
    "\n",
    "<center><img src = \"./img/week5_2.png\" width = \"450px;\"/></center>\n",
    "\n",
    "* All points are conditionally independent."
   ]
  },
  {
   "cell_type": "markdown",
   "id": "a14a4f81-b815-415e-924b-27fe6b9fbb81",
   "metadata": {},
   "source": [
    "### Latent Dirichlet Allocations (LDA)\n",
    "\n",
    "* $D$ : # of documents\n",
    "* $N$ : # of words per documents\n",
    "* $K$ : # of topics\n",
    "\n",
    "<center><img src = \"./img/week5_3.png\" width = \"550px;\"/></center>"
   ]
  },
  {
   "cell_type": "markdown",
   "id": "71fb0969-5317-4747-ab3f-7e3dcfc7c054",
   "metadata": {},
   "source": [
    "### Casual Inference\n",
    "\n",
    "**Simpson's paradox** : 여러 그룹의 자료를 합했을 때의 결과와 각 그룹을 구분했을 때의 결과가 다른 경우\n",
    "\n",
    "한 전염병에 대한 백신의 효과를 측정하는 사례를 예시로 들자면,\n",
    "\n",
    "* Condition : 현재 몸상태\n",
    "* Treatment : 백신 A, 백신 B\n",
    "* Outcome : 사망률\n",
    "\n",
    "<center><img src = \"./img/week5_4.png\" width = \"450px;\"/></center>\n",
    "\n",
    "\n"
   ]
  },
  {
   "cell_type": "markdown",
   "id": "c75bed86-df4f-4538-ad72-71a868308be0",
   "metadata": {},
   "source": [
    "#### 1. 전체 데이터\n",
    "\n",
    "A : $\\large \\frac{240}{1500} = 16\\%$<br>\n",
    "B : $\\large \\frac{105}{550} = 19\\%$<br>\n",
    "$\\therefore$ A is better than B.\n",
    "\n"
   ]
  },
  {
   "cell_type": "markdown",
   "id": "68e3a738-5c2f-493e-8a6f-d2603a9dff4c",
   "metadata": {},
   "source": [
    "#### 2. 백신 T을 맞기 전 현재 몸상태 C에 따른 계층화\n",
    "\n",
    "<center><img src = \"./img/week5_5.png\" width = \"550px;\"/></center>\n",
    "\n",
    "$$\\large E[Y|do(T=t)] = E_cE[Y|t,c] = \\sum\\limits_{c}E[Y|t,c]P(c)$$\n",
    "\n",
    "* $E[Y|do(T=t)]$ : 백신 t를 맞은 경우 output 사망률 Y의 기대값\n",
    "* $E_cE[Y|t,c]$ : 모든 현재 몸상태 c (Mild, Severe)에 대해 output 사망률 Y의 기대값\n",
    "* $\\sum\\limits_{c}E[Y|t,c]P(c)$ : 각 $P(c)$ 기대값의 가중값으로 나타낼 수 있다\n",
    "\n",
    "A : $\\large 0.15 \\times \\frac{1450}{2050} + 0.30 \\times \\frac{600}{2050} = 19.4\\%$<br>\n",
    "B : $\\large 0.10 \\times \\frac{1450}{2050} + 0.20 \\times \\frac{600}{2050} = 12.9\\%$<br>\n",
    "$\\therefore$ B is better than A.\n",
    "\n"
   ]
  },
  {
   "cell_type": "markdown",
   "id": "41981dc6-6ca6-4251-be86-c09efc86dc99",
   "metadata": {},
   "source": [
    "#### 3. 환자에게 투약한 백신 T가 현재 몸상태 C에 영향을 줄 때\n",
    "\n",
    "<center><img src = \"./img/week5_6.png\" width = \"350px;\"/></center>\n",
    "\n",
    "$$\\large E[Y|do(T=t)] = E_cE[Y|c,t] = \\sum\\limits_{c}E[Y|c,t]P(c|t)$$\n",
    "\n",
    "A : $\\large 0.15 \\times \\frac{1400}{1500} + 0.30 \\times \\frac{100}{1500} = 16\\%$<br>\n",
    "B : $\\large 0.10 \\times \\frac{50}{550} + 0.20 \\times \\frac{500}{550} = 19\\%$<br>\n",
    "$\\therefore$ A is better than B."
   ]
  },
  {
   "cell_type": "code",
   "execution_count": null,
   "id": "4c6074e4-f43c-42ff-a2c3-9ba05e7bebc2",
   "metadata": {},
   "outputs": [],
   "source": []
  }
 ],
 "metadata": {
  "kernelspec": {
   "display_name": "Python 3 (ipykernel)",
   "language": "python",
   "name": "python3"
  },
  "language_info": {
   "codemirror_mode": {
    "name": "ipython",
    "version": 3
   },
   "file_extension": ".py",
   "mimetype": "text/x-python",
   "name": "python",
   "nbconvert_exporter": "python",
   "pygments_lexer": "ipython3",
   "version": "3.9.15"
  }
 },
 "nbformat": 4,
 "nbformat_minor": 5
}
