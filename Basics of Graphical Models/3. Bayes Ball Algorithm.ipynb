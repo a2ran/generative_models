{
 "cells": [
  {
   "cell_type": "markdown",
   "id": "f9fd59dc-59ba-4297-bd96-29874c4f2f83",
   "metadata": {},
   "source": [
    "Source from [Columbia University, 2016](https://www.cs.columbia.edu/~blei/fogm/2016F/doc/graphical-models.pdf)"
   ]
  },
  {
   "cell_type": "markdown",
   "id": "51204cb1-d8b1-45f3-9ea9-1716590821ec",
   "metadata": {},
   "source": [
    "The definition of independence :\n",
    "\n",
    "<img src = \"./img/week2_2.png\" style = \"width : 350px;\">\n",
    "\n",
    "The definition of conditional independence :\n",
    "\n",
    "<img src = \"./img/week2_3.png\" style = \"width : 450px;\">"
   ]
  },
  {
   "cell_type": "markdown",
   "id": "1397c2b4-072d-4602-854f-2e712649e697",
   "metadata": {},
   "source": [
    "## Head-to-Tail Chain Structure\n",
    "\n",
    "<center><img src = \"./img/week3_1.png\" width = \"450px;\"/></center>\n",
    "\n",
    "$$\\Large X : \\text{past}, Y : \\text{present}, Z : \\text{past}$$\n",
    "\n",
    "**Markov assumption** : Given the present $Y$, the past $X$ is independent of the future $Z$.\n",
    "\n",
    "$\\because X, Y, Z$ is conditionally independent "
   ]
  },
  {
   "cell_type": "markdown",
   "id": "3a42a5c0-13fa-4765-962d-3ad0263516fc",
   "metadata": {},
   "source": [
    "1. $\\large X \\not\\perp Z$\n",
    "\n",
    "By the definition of conditional independence,\n",
    "\n",
    "$$\\large\n",
    "p(x, z) = p(z|x)p(x)= p(z|x,y)p(x) = p(z|y)p(x) \\not= p(z)p(x)\n",
    "$$"
   ]
  },
  {
   "cell_type": "markdown",
   "id": "47b45179-7820-4557-aa29-c867f01cd197",
   "metadata": {},
   "source": [
    "2. $\\large X \\perp Z|Y$\n",
    "\n",
    "By the definition of conditional independence,\n",
    "\n",
    "$$\\large\n",
    "p(x|y, z) = \\frac{p(x,y,z)}{p(y,z)} = \\frac{p(x)p(y|x)p(z|y)}{p(z|y)\\sum\\limits_{x'}p(x')p(y|x')} = \\frac{p(x,y)}{p(y)} = p(x|y)\n",
    "$$\n",
    "\n",
    "* $\\large \\sum\\limits_{x'}p(x')p(y|x')$ : 모든 $x'$에 대해 $y$가 발생할 확률\n",
    "> we do this because $x$는 $y$가 발생하기 이전의 시점이기 때문! $\\sum\\limits_{x'}p(x')p(y|x') = p(y)$"
   ]
  },
  {
   "cell_type": "markdown",
   "id": "7f453f3b-b7b5-481b-a445-0ab722f4e20a",
   "metadata": {},
   "source": [
    "## Tail-to-Tail Chain Structure\n",
    "\n",
    "<center><img src = \"./img/week3_2.png\" width = \"450px;\"/></center>\n",
    "\n",
    "$$\\Large X : \\text{class}, Y : \\text{image 1}, Z : \\text{image 2}$$\n",
    "$$\\Large p(x,y,z) = p(y)p(x|y)p(z|y)$$\n",
    "\n",
    "2. $\\large X \\perp Z|Y$\n",
    "\n",
    "By the definition of conditional independence,\n",
    "\n",
    "$$\\large\n",
    "p(x,z|y) = \\frac{p(y)p(x|y)p(z|y)}{p(y)} = p(x|y)p(z|y)\n",
    "$$"
   ]
  },
  {
   "cell_type": "markdown",
   "id": "2a541a6d-f9ab-4a10-81e9-3001f3217962",
   "metadata": {},
   "source": [
    "## Inverse Fork Structure\n",
    "\n",
    "<center><img src = \"./img/week3_3.png\" width = \"450px;\"/></center>\n",
    "\n",
    "$$\\Large p(x,y,z) = p(x)p(z)p(y|x,z)$$"
   ]
  },
  {
   "cell_type": "markdown",
   "id": "bc495985-524f-4700-b99d-cdacac9465d2",
   "metadata": {},
   "source": [
    "## Bayes Ball\n",
    "\n",
    "Consider a ball starting at $X$ and going through $Y$ on its way to $Z$.\n",
    "\n",
    "If the ball can reach from $X$ to $Z$, the conditional independence is **FALSE**.\n",
    "\n",
    "The ball iterates according to these rules :\n",
    "\n",
    "<center><img src = \"./img/week3_4.png\" width = \"550px;\"/></center>\n",
    "\n",
    "These rules apply equally when we contemplate a ball going through a node and then back to the source node."
   ]
  },
  {
   "cell_type": "markdown",
   "id": "9cbc9c49-19c6-42a1-aede-7fb91a64f17a",
   "metadata": {},
   "source": [
    "### Example 1\n",
    "\n",
    "$$\\large X_1 \\perp X_6 | \\{ X_2, X_3 \\} ?$$\n",
    "\n",
    "<center><img src = \"./img/week3_5.png\" width = \"450px;\"/></center>\n",
    "\n",
    "Since all path X, `YES`"
   ]
  },
  {
   "cell_type": "markdown",
   "id": "5172b947-0ff2-4e30-99c9-f5bff5b7f4e1",
   "metadata": {},
   "source": [
    "### Example 2\n",
    "\n",
    "$$\\large X_2 \\perp X_3 | \\{ X_1, X_6 \\} ?$$\n",
    "\n",
    "<center><img src = \"./img/week3_6.png\" width = \"450px;\"/></center>\n",
    "\n",
    "Since not all path X, `NO`"
   ]
  },
  {
   "cell_type": "markdown",
   "id": "37184b0d-b150-4718-a386-11f587be6e58",
   "metadata": {},
   "source": [
    "## Markov Blanket\n",
    "\n",
    "The Markov Blanket of node $x_i$ is the set of all parents, children, and co-parents of $x_i$.<br>Conditioned on the blanket, $x_i$ is independent of the rest of the graph.\n",
    "\n",
    "<center><img src = \"./img/week3_7.png\" width = \"650px;\"/></center>"
   ]
  },
  {
   "cell_type": "code",
   "execution_count": null,
   "id": "5f066d8b-d047-43ee-a83d-2bca158de19f",
   "metadata": {},
   "outputs": [],
   "source": []
  }
 ],
 "metadata": {
  "kernelspec": {
   "display_name": "Python 3 (ipykernel)",
   "language": "python",
   "name": "python3"
  },
  "language_info": {
   "codemirror_mode": {
    "name": "ipython",
    "version": 3
   },
   "file_extension": ".py",
   "mimetype": "text/x-python",
   "name": "python",
   "nbconvert_exporter": "python",
   "pygments_lexer": "ipython3",
   "version": "3.9.15"
  }
 },
 "nbformat": 4,
 "nbformat_minor": 5
}
