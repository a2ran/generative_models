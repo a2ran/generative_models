{
 "cells": [
  {
   "cell_type": "markdown",
   "id": "c3f312a4-eb2c-412f-9a8c-d7327e95bf1d",
   "metadata": {},
   "source": [
    "## Generative Models\n",
    "\n",
    "* Data : (x,y) or (x)\n",
    "* Goal : To learn a model that represents the distribution with some observed samples\n",
    "> Captures a hidden or underlying structure of the data\n",
    "\n",
    "* Density Estimation\n",
    "* Sample Generation"
   ]
  },
  {
   "cell_type": "markdown",
   "id": "38eef143-24c0-48f5-a3a2-c2f15f6e610e",
   "metadata": {},
   "source": [
    "<img src = \"./img/week1_2.png\" style = \"width : 350px;\">\n",
    "\n",
    "<img src = \"./img/week1_3.png\" style = \"width : 350px;\">"
   ]
  },
  {
   "cell_type": "markdown",
   "id": "d9f82876-d82e-437f-80fb-2a2a61fb46f7",
   "metadata": {},
   "source": [
    "### Gaussian Mixture Model (GMM)의 식과 분포도\n",
    "\n",
    "위 그림은 여러 Gaussian Distributon의 혼합으로 데이터를 생성한 확률적 모델을 시각화한 그래프이다. 여기서 각 Gaussian Distribution은 데이터의 Cluster를 나타내며, 각 데이터 포인트는 이 Cluster 중 하나에서 발생한다.\r\n",
    "$$\n",
    "\\Huge p(x) = \\sum\\limits_{i=1}^K \\pi_i N(x|\\mu_i, \\sigma_i)\n",
    "$$\n",
    "\n",
    "* $p(x)$ : distribution들이 혼합되어 있는 확률밀도함수 (Probability Density Function)\n",
    "* $K$ : Gaussian Distribution의 개수\n",
    "* $\\pi_i$ : $i$ 번째 정규분포의 가중치 ($\\sum\\limits_{i=1}^K \\pi_i = 0$)\n",
    "* $N(x|\\mu_i, \\sigma_i)$ : $i$ 번째 정규분포의 PDF (Gaussian)\n",
    "\n",
    "**Graphical Model**\n",
    "\n",
    "* $\\mu$ : 각 Gaussian Distribution의 평균\n",
    "* $\\Sigma$ : 각 Gaussian Distribution의 공분산\n",
    "* $Z_n$ : 각 데이터 포인트가 어떤 Gaussian Distribution에 속하는지 나타내는 잠재 변수 (latent variable)\n",
    "* $X_n$ : 관측된 데이터 포인트\n",
    "* $N$ : 데이터 포인트의 총 개수를 들어, 고객 세분화, 이미지 분할, 음성 인식 등 다양한 분야에서 활용됩니다."
   ]
  },
  {
   "cell_type": "markdown",
   "id": "3c3e0664-e6c8-455f-9d5e-cbd343740b94",
   "metadata": {},
   "source": [
    "### GMM 계산 Step\n",
    "\n",
    "`Input Variable` : 관측 데이터 $X = \\{X_1, X_2, \\ldots, X_N\\}$\n",
    "\n",
    "`Output Variable` : 파라미터 $\\pi, \\mu, \\Sigma$ & 데이터 포인트의 cluster label\n",
    "\n",
    "1. $\\pi$, $\\mu$, $\\Sigma$ 초기화\n",
    "2. 각 데이터 포인트 $X_n$ 에 대해 특정 cluster에 속할 확률인 $Z_n$의 기대값 계산 (EM-algorithm의 E Step)\n",
    "3. E-step의 결과를 가지고 $\\pi, \\mu, \\Sigma$를 업데이트 (EM-algorithm의 M step)\n",
    "4. 파라미터가 수렴할 때까지 EM-algorithm 반복\n",
    "5. 수렴 후 결과로 나온 $\\pi, \\mu, \\Sigma$ 사용"
   ]
  },
  {
   "cell_type": "code",
   "execution_count": null,
   "id": "f06535e3-783a-4e6d-85da-f2650d2c5d44",
   "metadata": {},
   "outputs": [],
   "source": []
  }
 ],
 "metadata": {
  "kernelspec": {
   "display_name": "Python 3 (ipykernel)",
   "language": "python",
   "name": "python3"
  },
  "language_info": {
   "codemirror_mode": {
    "name": "ipython",
    "version": 3
   },
   "file_extension": ".py",
   "mimetype": "text/x-python",
   "name": "python",
   "nbconvert_exporter": "python",
   "pygments_lexer": "ipython3",
   "version": "3.9.15"
  }
 },
 "nbformat": 4,
 "nbformat_minor": 5
}
