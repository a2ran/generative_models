{
 "cells": [
  {
   "cell_type": "markdown",
   "id": "7c443bc3-b7b9-4419-9100-d8877e224f6c",
   "metadata": {},
   "source": [
    "## Bayes Ball\n",
    "\n",
    "Consider a ball starting at $X$ and going through $Y$ on its way to $Z$.\n",
    "\n",
    "If the ball can reach from $X$ to $Z$, the conditional independence is **FALSE**.\n",
    "\n",
    "The ball iterates according to these rules :\n",
    "\n",
    "<center><img src = \"./img/week3_4.png\" width = \"550px;\"/></center>\n",
    "\n",
    "These rules apply equally when we contemplate a ball going through a node and then back to the source node."
   ]
  },
  {
   "cell_type": "markdown",
   "id": "7e190611-4169-437e-8700-396b4449f8a1",
   "metadata": {},
   "source": [
    "## Boundary Condition\n",
    "\n",
    "$$\\large W \\perp X | Y ?$$\n",
    "\n",
    "<center><img src = \"./img/week4_1.png\" width = \"300px;\"/></center>\n",
    "\n",
    "Since not all path X, `NO`\n",
    "\n",
    "Also,\n",
    "\n",
    "$$\\large W \\perp X | Z ?$$\n",
    "\n",
    "<center><img src = \"./img/week4_2.png\" width = \"300px;\"/></center>\n",
    "\n",
    "`NO`, since If we observe $Z$, we effectively observe $Y$ as well.\n",
    "\n",
    "<center><img src = \"./img/week4_3.png\" width = \"450px;\"/></center>"
   ]
  },
  {
   "cell_type": "markdown",
   "id": "895284b4-7720-4fe6-a58f-3a078a5f1ee4",
   "metadata": {},
   "source": [
    "### Example 1\n",
    "\n",
    "$$\\large C \\perp E | A ?$$\n",
    "\n",
    "<center><img src = \"./img/week4_4.png\" width = \"300px;\"/></center>\n",
    "\n",
    "Since not all path X, `NO`"
   ]
  },
  {
   "cell_type": "markdown",
   "id": "1bf9c429-1912-4d00-b641-01d49b04b136",
   "metadata": {},
   "source": [
    "### Example 2\n",
    "\n",
    "$$\\large U \\perp V | Y ?$$\n",
    "\n",
    "<center><img src = \"./img/week4_5.png\" width = \"300px;\"/></center>\n",
    "\n",
    "Since not all path X, `NO`"
   ]
  },
  {
   "cell_type": "markdown",
   "id": "df08ca36-d035-4e84-ada2-e891fa377cf5",
   "metadata": {},
   "source": [
    "### Example 3\n",
    "\n",
    "$$\\large U \\perp V | Z ?$$\n",
    "\n",
    "<center><img src = \"./img/week4_6.png\" width = \"300px;\"/></center>\n",
    "\n",
    "Since all path X, `YES`"
   ]
  },
  {
   "cell_type": "markdown",
   "id": "e4a0ade0-5069-4ce7-84c0-8d3fd54523a4",
   "metadata": {},
   "source": [
    "### Example 4\n",
    "\n",
    "$$\\large W \\perp X ?$$\n",
    "\n",
    "<center><img src = \"./img/week4_7.png\" width = \"300px;\"/></center>\n",
    "\n",
    "Since not all path X, `NO`"
   ]
  },
  {
   "cell_type": "markdown",
   "id": "f8e5503c-94e3-4a93-8efc-cea62c4f96b9",
   "metadata": {},
   "source": [
    "### Example 5\n",
    "\n",
    "$$\\large Y \\perp Z|T ?$$\n",
    "\n",
    "<center><img src = \"./img/week4_8.png\" width = \"300px;\"/></center>\n",
    "\n",
    "Since all path X, `YES`"
   ]
  },
  {
   "cell_type": "code",
   "execution_count": null,
   "id": "fe920e6b-40f3-4f0e-8bd4-a9d584fb5b91",
   "metadata": {},
   "outputs": [],
   "source": []
  }
 ],
 "metadata": {
  "kernelspec": {
   "display_name": "Python 3 (ipykernel)",
   "language": "python",
   "name": "python3"
  },
  "language_info": {
   "codemirror_mode": {
    "name": "ipython",
    "version": 3
   },
   "file_extension": ".py",
   "mimetype": "text/x-python",
   "name": "python",
   "nbconvert_exporter": "python",
   "pygments_lexer": "ipython3",
   "version": "3.9.15"
  }
 },
 "nbformat": 4,
 "nbformat_minor": 5
}
