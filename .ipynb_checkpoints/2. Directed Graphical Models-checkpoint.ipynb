{
 "cells": [
  {
   "cell_type": "markdown",
   "id": "2358608b-9940-4489-ad18-3ebba56a80c5",
   "metadata": {},
   "source": [
    "Source from [Columbia University, 2016](https://www.cs.columbia.edu/~blei/fogm/2016F/doc/graphical-models.pdf)"
   ]
  },
  {
   "cell_type": "markdown",
   "id": "40da4255-de7a-457c-ab6f-ee0091095f02",
   "metadata": {},
   "source": [
    "Consider a set of random variables $\\{ X_1, \\cdot\\cdot\\cdot, X_n \\}$.\n",
    "\n",
    "* Which variables are independent?\n",
    "* Which variables are conditionally independent given others?\n",
    "* What are the marginal distributions of subsets of variables?\n",
    "\n",
    "These questions are answered with the joint distribution $P(X_1, \\cdot\\cdot\\cdot, X_n)$.\n",
    "\n",
    "* Marginalization is answered by summing over the joint.\n",
    "* Independence is answered by checking factorizations."
   ]
  },
  {
   "cell_type": "markdown",
   "id": "8e93acbd-efe0-4b1f-aa48-770e20d98db3",
   "metadata": {},
   "source": [
    "## Directed Graphical Models\n",
    "\n",
    "* Directed Graphical Model = Directed Acyclic Graph (방향이 정해진 비순환 그래프)\n",
    "* Vertices = Random variables $\\{ X_1, \\cdot\\cdot\\cdot, X_n \\}$\n",
    "* $\\pi_i$ = Parents of $X_i$\n",
    "  \n",
    "<img src = \"./img/week2_1.png\" style = \"width : 350px;\">\n",
    "\n",
    "`Example DGM`\n",
    "\n",
    "* Random Variables : $\\{ X_1, \\cdot\\cdot\\cdot, X_6 \\}$\n",
    "* $\\pi_6 = \\{5,2 \\}$\n",
    "* Joint Distribution : $p(x_{1:6}) = p(x_1)p(x_2|x_1)p(x_3|x_1)p(x_4|x_2)p(x_5|x_3)p(x_6|x_2, x_5)$\n",
    "$$\n",
    "\\Large \\therefore p(x_{1:n}) = \\prod\\limits_{i=1}^n p(x_i|x_{\\pi_i})\n",
    "$$"
   ]
  },
  {
   "cell_type": "markdown",
   "id": "7321608a-c53f-4a06-855e-f6987b7e4d73",
   "metadata": {},
   "source": [
    "## Why do we use Graphical Models?\n",
    "\n",
    "1. Graphical Models limits the number of entries\n",
    "> ex) Consider Binary random variables $x_{1:n}$,<br>\n",
    "> Full joint requires $2^n$ values.<br>\n",
    "> Graphical model joint requires $\\sum\\limits_{i=1}^n 2^{|\\pi_i|}$\n",
    "\n",
    "2. Graphical Models provides inferential machinery\n",
    "> Can control the cost of computation\n",
    "\n",
    "3. Graphs are more generic than specific joint distributions"
   ]
  },
  {
   "cell_type": "markdown",
   "id": "6c16c77b-58f1-465c-884d-ab3b92055d2f",
   "metadata": {},
   "source": [
    "## Basic Conditional Independence Statements\n",
    "\n",
    "The definition of independence :\n",
    "\n",
    "<img src = \"./img/week2_2.png\" style = \"width : 350px;\">\n",
    "\n",
    "The definition of conditional independence :\n",
    "\n",
    "<img src = \"./img/week2_3.png\" style = \"width : 450px;\">"
   ]
  },
  {
   "cell_type": "markdown",
   "id": "2e5da94e-5de9-4f25-ba61-ad6c661ea1d5",
   "metadata": {},
   "source": [
    "By using the cheaper factorized representation of the joint, we are making independence assumptions about the random variables.\n",
    "\n",
    "$\\because$ We can read off conditional independencies by looking at the graph.\n",
    "\n",
    "<img src = \"./img/week2_1.png\" style = \"width : 350px;\">\n",
    "\n",
    "$p(x_4|x_1, x_2, x_3) = \\frac{p(x_1, x_2, x_3, x_4)}{p(x_1, x_2, x_3)} = p(x_4|x_2)$\n",
    "\n",
    "which means that\n",
    "\n",
    "$X_4 \\perp \\{X_1, X_3 \\}|X_2$<br>\n",
    "$X_5 \\perp \\{X_1, X_2, X_4 \\}|X_3$<br>\n",
    "$X_6 \\perp \\{X_1, X_3, X_4\\}|\\{X_2, X_5\\}$\n",
    "\n",
    "==> Bayes Ball Algorithm!"
   ]
  },
  {
   "cell_type": "code",
   "execution_count": null,
   "id": "8af808e7-8db7-4de2-9614-f2cdafb304f3",
   "metadata": {},
   "outputs": [],
   "source": []
  }
 ],
 "metadata": {
  "kernelspec": {
   "display_name": "Python 3 (ipykernel)",
   "language": "python",
   "name": "python3"
  },
  "language_info": {
   "codemirror_mode": {
    "name": "ipython",
    "version": 3
   },
   "file_extension": ".py",
   "mimetype": "text/x-python",
   "name": "python",
   "nbconvert_exporter": "python",
   "pygments_lexer": "ipython3",
   "version": "3.9.15"
  }
 },
 "nbformat": 4,
 "nbformat_minor": 5
}
