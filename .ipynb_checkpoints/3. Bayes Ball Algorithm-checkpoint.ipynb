{
 "cells": [
  {
   "cell_type": "markdown",
   "id": "f9fd59dc-59ba-4297-bd96-29874c4f2f83",
   "metadata": {},
   "source": [
    "Source from [Columbia University, 2016](https://www.cs.columbia.edu/~blei/fogm/2016F/doc/graphical-models.pdf)"
   ]
  },
  {
   "cell_type": "markdown",
   "id": "51204cb1-d8b1-45f3-9ea9-1716590821ec",
   "metadata": {},
   "source": [
    "The definition of independence :\n",
    "\n",
    "<img src = \"./img/week2_2.png\" style = \"width : 350px;\">\n",
    "\n",
    "The definition of conditional independence :\n",
    "\n",
    "<img src = \"./img/week2_3.png\" style = \"width : 450px;\">"
   ]
  },
  {
   "cell_type": "markdown",
   "id": "1397c2b4-072d-4602-854f-2e712649e697",
   "metadata": {},
   "source": [
    "## Head-to-Tail Chain Structure\n",
    "\n",
    "<center><img src = \"./img/week3_1.png\" width = \"450px;\"/></center>\n",
    "\n",
    "$$\\Large X : \\text{past}, Y : \\text{present}, Z : \\text{past}$$\n",
    "\n",
    "$\\because X, Y, Z$ is conditionally independent "
   ]
  },
  {
   "cell_type": "markdown",
   "id": "3a42a5c0-13fa-4765-962d-3ad0263516fc",
   "metadata": {},
   "source": [
    "1. $\\large X \\not\\perp Z$\n",
    "\n",
    "$$\\large\n",
    "p(x, z) = p(z|x)p(x)= p(z|x,y)p(x) = p(z|y)p(x) \\not= p(z)p(x)\n",
    "$$"
   ]
  },
  {
   "cell_type": "code",
   "execution_count": null,
   "id": "15fddae2-71ba-41ba-9957-4e761c4dd7ed",
   "metadata": {},
   "outputs": [],
   "source": []
  }
 ],
 "metadata": {
  "kernelspec": {
   "display_name": "Python 3 (ipykernel)",
   "language": "python",
   "name": "python3"
  },
  "language_info": {
   "codemirror_mode": {
    "name": "ipython",
    "version": 3
   },
   "file_extension": ".py",
   "mimetype": "text/x-python",
   "name": "python",
   "nbconvert_exporter": "python",
   "pygments_lexer": "ipython3",
   "version": "3.9.15"
  }
 },
 "nbformat": 4,
 "nbformat_minor": 5
}
