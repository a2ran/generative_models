{
 "cells": [
  {
   "cell_type": "markdown",
   "id": "1b66c808-5719-4349-994b-d504cd256153",
   "metadata": {},
   "source": [
    "## Why Bayesian Statistics?\n",
    "\n",
    "어느 전염병에 전염된 환자의 몸 상태 (condition)와 백신의 종류 (Treatment)에 따른 치사율 (Outcome)을 표시한 그래프를 예시로 들자.\n",
    "\n",
    "* Condition : 환자의 몸 상태 : $\\large c_M, c_S$\n",
    "* Treatment : 백신의 종류 : $\\large t_A, t_B$\n",
    "* Outcome : 치사율 : $\\large Y$\n",
    "\n",
    "우리는 백신 A와 백신 B중 더 우수한 (치사율이 낮은) 백신을 보급하고자 한다.\n",
    "\n",
    "<img src = \"./img/week1_1.png\" width = \"550px;\"/>"
   ]
  },
  {
   "cell_type": "markdown",
   "id": "7e64afe4-4c95-4684-aa9d-2c34d610b53b",
   "metadata": {},
   "source": [
    "## Frequentist Point of View\n",
    "\n",
    "`Frequentist` (빈도주의)적 입장에서는 실제로 발생한 사건을 기반으로 확률을 계산하기 때문에 다음과 같은 식을 도출할 수 있다.\n",
    "\n",
    "### 1. 환자의 몸 상태 정보를 합한 총 통계량\n",
    "\n",
    "$\\large P(T_A) = (Mild_A + Severe_A)/(N_A) = \\frac{240}{1500} = 16\\%$<br>\n",
    "$\\large P(T_B) = (Mild_B + Severe_B)/(N_B) = \\frac{105}{550} = 19\\%$\n",
    "\n",
    "$\\large \\therefore$ 백신 A가 백신 B보다 낫다.\n",
    "\n",
    "### 2. 환자의 몸 상태 정보를 고려하는 통계량\n",
    "\n",
    "$\\large \\text{mild : } 15\\% > 10\\%$<br>\n",
    "$\\large \\text{severe : } 30\\% > 20\\%$\n",
    "\n",
    "$\\large \\therefore$ 백신 B가 백신 A보다 낫다."
   ]
  },
  {
   "cell_type": "markdown",
   "id": "63f31068-3f4b-4a6d-b67c-a0161983cbb0",
   "metadata": {},
   "source": [
    "이렇게 여러 그룹의 자료를 합했을 때의 결과와 각 그룹을 구분했을 때의 결과가 다른 경우를 **Simpson's Paradox** (심슨의 역설)로 부르고, 이 문제를 해결하기 위해 우리가 **사전에 아는 정보** 를 최대한 활용하는 베이즈 통계를 사용한다."
   ]
  },
  {
   "cell_type": "markdown",
   "id": "67ff6ce4-9c08-4bbf-9093-c0285c480d5a",
   "metadata": {},
   "source": [
    "## Bayesian Point of View\n",
    "\n",
    "`Bayesian` (베이즈주의)적 입장에서는 우리가 미리 알고있는 사건의 정보 $\\large p(x)$을 가지고 다음과 같은 식을 도출할 수 있다.\n",
    "\n",
    "### 1. 환자의 몸 상태가 치료약의 선정에 영향을 주는 경우\n",
    "\n",
    "<img src = \"./img/week1_2.png\" width = \"350px;\"/>\n",
    "\n",
    "$\\large P(Y|t_A, C)$"
   ]
  },
  {
   "cell_type": "code",
   "execution_count": null,
   "id": "aa1c4c3d-8253-4d61-8170-56317dd24eb9",
   "metadata": {},
   "outputs": [],
   "source": []
  }
 ],
 "metadata": {
  "kernelspec": {
   "display_name": "Python 3 (ipykernel)",
   "language": "python",
   "name": "python3"
  },
  "language_info": {
   "codemirror_mode": {
    "name": "ipython",
    "version": 3
   },
   "file_extension": ".py",
   "mimetype": "text/x-python",
   "name": "python",
   "nbconvert_exporter": "python",
   "pygments_lexer": "ipython3",
   "version": "3.9.15"
  }
 },
 "nbformat": 4,
 "nbformat_minor": 5
}
