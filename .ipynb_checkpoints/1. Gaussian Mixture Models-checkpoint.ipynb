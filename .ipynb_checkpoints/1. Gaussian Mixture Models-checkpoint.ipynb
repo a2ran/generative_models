{
 "cells": [
  {
   "cell_type": "markdown",
   "id": "c3f312a4-eb2c-412f-9a8c-d7327e95bf1d",
   "metadata": {},
   "source": [
    "## Generative Models\n",
    "\n",
    "* Data : (x,y) or (x)\n",
    "* Goal : To learn a model that represents the distribution with some observed samples\n",
    "> Captures a hidden or underlying structure of the data\n",
    "\n",
    "* Density Estimation\n",
    "* Sample Generation"
   ]
  },
  {
   "cell_type": "markdown",
   "id": "38eef143-24c0-48f5-a3a2-c2f15f6e610e",
   "metadata": {},
   "source": [
    "<img src = \"./img/week1_2.png\" style = \"width : 350px;\">\n",
    "\n",
    "<img src = \"./img/week1_3.png\" style = \"width : 350px;\">"
   ]
  },
  {
   "cell_type": "markdown",
   "id": "d9f82876-d82e-437f-80fb-2a2a61fb46f7",
   "metadata": {},
   "source": [
    "### Gaussian Mixture Model (GMM)의 식과 분포도\n",
    "\n",
    "위 그림은 여러 Gaussian Distributon의 혼합으로 데이터를 생성한 확률적 모델을 시각화한 그래프이다. 여기서 각 Gaussian Distribution은 데이터의 Cluster를 나타내며, 각 데이터 포인트는 이 Cluster 중 하나에서 발생한다.\r\n",
    "$$\n",
    "\\Huge p(x) = \\sum\\limits_{i=1}^K \\pi_i N(x|\\mu_i, \\sigma_i)\n",
    "$$\n",
    "\n",
    "* $p(x)$ : distribution들이 혼합되어 있는 확률밀도함수 (Probability Density Function)\n",
    "* $K$ : Gaussian Distribution의 개수\n",
    "* $\\pi_i$ : $i$ 번째 정규분포의 가중치 ($\\sum\\limits_{i=1}^K \\pi_i = 0$)\n",
    "* $N(x|\\mu_i, \\sigma_i)$ : $i$ 번째 정규분포의 PDF (Gaussian)\n",
    "\n",
    "**Graphical Model**\n",
    "\n",
    "* $\\mu$ : 각 Gaussian Distribution의 평균\n",
    "* $\\Sigma$ : 각 Gaussian Distribution의 공분산\n",
    "* $Z_n$ : 각 데이터 포인트가 어떤 Gaussian Distribution에 속하는지 나타내는 잠재 변수 (latent variable)\n",
    "* $X_n$ : 관측된 데이터 포인트\n",
    "* $N$ : 데이터 포인트의 총 개수를 들어, 고객 세분화, 이미지 분할, 음성 인식 등 다양한 분야에서 활용됩니다."
   ]
  },
  {
   "cell_type": "markdown",
   "id": "3c3e0664-e6c8-455f-9d5e-cbd343740b94",
   "metadata": {},
   "source": [
    "### GMM 계산 Step\n",
    "\n",
    "1. $\\pi$, $\\mu$, $\\Sigma$ 초기화\n",
    "2. 각 데이터 포인트 $X_n$ 에 대해 특정 cluster에 속할 확\n",
    "\n",
    " \\( \\pi \\), \\( \\mu \\), \\( \\Sigma \\) 파라미터를 무작위로 초기화하거나, 데이터에서 간단한 추정을 통해 초기화합니다. 이 파라미터들은 각각 혼합 가중치, 클러스터 평균, 클러스터 공분산을 나타냅니다.\n",
    "\n",
    "### Step 2: 기대값(E-Step)\n",
    "- 각 데이터 포인트 \\( X_n \\)에 대하여, 각 가우시안 분포가 그 데이터 포인트를 생성할 조건부 확률, 즉 '책임(responsibility)'을 계산합니다.\n",
    "- 이는 \\( Z_n \\)의 기대값을 계산하는 것으로 볼 수 있으며, 각 데이터 포인트가 특정 클러스터에 속할 확률을 나타냅니다.\n",
    "\n",
    "### Step 3: 최대화(M-Step)\n",
    "- E-Step에서 계산된 책임을 사용하여, 각 클러스터에 대한 \\( \\pi \\), \\( \\mu \\), \\( \\Sigma \\) 파라미터를 업데이트합니다.\n",
    "- \\( \\mu \\)는 각 클러스터에 대한 데이터 포인트들의 가중 평균으로 업데이트되며, \\( \\Sigma \\)는 가중 공분산으로 업데이트됩니다.\n",
    "- \\( \\pi \\)는 각 클러스터에 대한 전체 데이터 포인트의 가중치의 평균으로 업데이트됩니다.\n",
    "\n",
    "### Step 4: 반복\n",
    "- E-Step과 M-Step을 파라미터가 수렴할 때까지 반복합니다. 수렴은 로그 가능도(log likelihood)의 변화가 임계값 아래로 떨어질 때, 또는 미리 정한 반복 횟수에 도달했을 때로 정의됩니다.\n",
    "\n",
    "### Step 5: 결과 해석\n",
    "- 수렴 후, \\( \\pi \\), \\( \\mu \\), \\( \\Sigma \\) 파라미터는 모델의 최종 형태를 나타내며, 각 데이터 포인트는 가장 높은 책임을 가지는 클러스터에 할당됩니다.\n",
    "\n",
    "### Input과 Output\n",
    "- **Input**: 관측 데이터 \\( X = \\{X_1, X_2, \\ldots, X_N\\} \\)\n",
    "- **Output**: 모델 파라미터 \\( \\pi \\), \\( \\mu \\), \\( \\Sigma \\)와 각 데이터 포인트의 클러스터 할당 정보\n",
    "\n",
    "이 모델의 주요 사용 사례는 클러스터링, 밀도 추정 및 분류입니다. 예를 들어, 고객 세분화, 이미지 분할, 음성 인식 등 다양한 분야에서 활용됩니다."
   ]
  }
 ],
 "metadata": {
  "kernelspec": {
   "display_name": "Python 3 (ipykernel)",
   "language": "python",
   "name": "python3"
  },
  "language_info": {
   "codemirror_mode": {
    "name": "ipython",
    "version": 3
   },
   "file_extension": ".py",
   "mimetype": "text/x-python",
   "name": "python",
   "nbconvert_exporter": "python",
   "pygments_lexer": "ipython3",
   "version": "3.9.15"
  }
 },
 "nbformat": 4,
 "nbformat_minor": 5
}
