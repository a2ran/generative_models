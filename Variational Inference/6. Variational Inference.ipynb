{
 "cells": [
  {
   "cell_type": "markdown",
   "id": "cd904f99-3437-491e-a563-b67ad9e37fce",
   "metadata": {},
   "source": [
    "## Variational Inference\n",
    "\n",
    "The model : $p_{\\theta}(x)$<br>\n",
    "The data : $D = \\{x_1, \\cdot\\cdot\\cdot x_n \\}$<br>\n",
    "Maximum likelihood $\\theta$ : "
   ]
  },
  {
   "cell_type": "code",
   "execution_count": null,
   "id": "7e706589-f95c-4f6a-b1c2-5a16e1c9c250",
   "metadata": {},
   "outputs": [],
   "source": []
  }
 ],
 "metadata": {
  "kernelspec": {
   "display_name": "Python 3 (ipykernel)",
   "language": "python",
   "name": "python3"
  },
  "language_info": {
   "codemirror_mode": {
    "name": "ipython",
    "version": 3
   },
   "file_extension": ".py",
   "mimetype": "text/x-python",
   "name": "python",
   "nbconvert_exporter": "python",
   "pygments_lexer": "ipython3",
   "version": "3.9.15"
  }
 },
 "nbformat": 4,
 "nbformat_minor": 5
}
