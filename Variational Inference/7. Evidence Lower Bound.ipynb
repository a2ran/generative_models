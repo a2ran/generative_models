{
 "cells": [
  {
   "cell_type": "markdown",
   "id": "f9cd6737-04f9-4d12-8e24-840dd0e4e712",
   "metadata": {},
   "source": [
    "참고 자료 : [https://modulabs.co.kr/blog/variational-inference-intro/](https://modulabs.co.kr/blog/variational-inference-intro/)"
   ]
  },
  {
   "cell_type": "markdown",
   "id": "006e34a1-6dab-4fb6-8163-803401bf1b3b",
   "metadata": {},
   "source": [
    "## Convex and Concave Function\n",
    "\n",
    "<img src = \"./img/week7_1.png\" style = \"width : 450px;\">\n",
    "\n",
    "`Convex Function`\n",
    "\n",
    "For all $0 \\le t \\le 1$ and all $x_1, x_2 \\in X$<br>\n",
    "$f(tx_1 + (1-t)x_2) \\le tf(x_1) + (1-t)f(x_2)$<br>\n",
    "ex) $x$, $x^2$, $e^x$\n",
    "\n",
    "`Concave Function`\n",
    "\n",
    "$f$ is concave if $-f$ is convex<br>\n",
    "ex) $\\log x$\n",
    "\n",
    "`Jensen's Inequality`\n",
    "\n",
    "$\\phi(E[X]) \\le E[\\phi(X)]$ where $\\phi$ is convex function<br>\n",
    "$\\phi(E[X]) \\ge E[\\phi(X)]$ where $\\phi$ is concave function<br>\n",
    "ex) $Var(x) = E[x^2] - E[x]^2 \\ge 0 \\rightarrow E[x]^2 \\le E[x^2]$"
   ]
  },
  {
   "cell_type": "markdown",
   "id": "d5cdd2cc-3e56-4592-beb7-de06a6de7b5f",
   "metadata": {},
   "source": [
    "* `Prior` : What we already know about $x$. $\\large p(x)$\n",
    "* `Posterior` : What we want to know. $\\large p(z|x)$\n",
    "* `Likelihood` : The probabilistic distribution of what we want to know. $\\large p(x|z)$"
   ]
  },
  {
   "cell_type": "markdown",
   "id": "202c25d6-fd82-4972-b4eb-bac4c910a58e",
   "metadata": {},
   "source": [
    "## Variational Inference\n",
    "\n",
    "우리의 목표는 Neural Network의 parameter인 $w$ 를 찾는 것인데, \n",
    "\n",
    "`Frequentist`에서는 Loss function을 정의하고 Gradient Descent 알고리즘을 적용하면 되지만,\n",
    "\n",
    "`Bayesian`에서는 $w$의 값 뿐만 아니라 $w$의 분포인 **Posterior**를 구하고자 한다.\n",
    "\n",
    "$$\\large \\text{posterior : } P(z|x) = \\frac{p(x|z)p(z)}{p(x)} = \\frac{p(x|z)P(z)}{\\sum\\limits_{z}P(x|z)P(z)dz}$$"
   ]
  },
  {
   "cell_type": "markdown",
   "id": "1571d490-3418-494d-a480-0f44c0e71fe9",
   "metadata": {},
   "source": [
    "Bayes 정리에 의해 다음이 성립하고, posterior(좌변)을 얻기 위해 z에 대한 적분(분모)이 필요하기 때문으로, 모델 구조가 복잡하고 z가 고차원일수록 적분은 다루기 힘들어져(intractable) 그대로 계산할 수 없고 다른 방법이 필요하게 됩니다. 그 방법 중 하나인 variational inference를 살펴보겠습니다.\r\n",
    "\r\n"
   ]
  },
  {
   "cell_type": "markdown",
   "id": "4c11a4b8-480a-431d-86f3-b1d83660f1c2",
   "metadata": {},
   "source": [
    "Posterior 식이 주어졌음에도 불구하고 구하지 못하는 이유는 \n",
    "\n",
    "분모에 있는 $\\large p(x) = \\sum\\limits_{z}P(x|z)P(z)dz$ 을 구하지 못하기 때문이다.\n",
    "\n",
    "또한 Posterior 식의 분포를 알아낸다 하더라도, $z$에 따른 output의 기대값인 \n",
    "\n",
    "$\\large \\mathbb{E}_{z \\sim p(z|x_i)} = \\int f(z)p(z|x)dz$ 역시 구하기 어렵다."
   ]
  },
  {
   "cell_type": "markdown",
   "id": "5005f4f2-6bcc-4838-9bb3-c33a9d609846",
   "metadata": {},
   "source": [
    "따라서 임의의 분포 $q(z)$을 정의해 $q(z)$ 가 $p(x|z)$을 가장 잘 모방하도록 한다!"
   ]
  },
  {
   "cell_type": "markdown",
   "id": "eef312a9-640f-4872-a3b7-b8b78256743a",
   "metadata": {},
   "source": [
    "## Evidence Lower Bound (ELBO)\n",
    "\n",
    "$$\\large\n",
    "\\begin{align*}\n",
    "\\log p(x_i) & = \\log \\int p(x_i|z)p(z)dz \\\\\n",
    "& = \\log \\int p(x_i|z)p(z) \\frac{q(z)}{q_i(z)} dz \\\\\n",
    "& = \\log \\mathbb{E}_{z \\sim q_i(z)}\\left[\\frac{p(x_i|z)p(z)}{q_i(z)}\\right] \\\\\n",
    "& \\geq \\mathbb{E}_{z \\sim q_i(z)}\\left[\\log \\frac{p(x_i|z)p(z)}{q_i(z)}\\right] \\because \\text{( log is concave)} \\\\\n",
    "& = \\mathbb{E}_{z \\sim q_i(z)}[\\log p(x_i|z) + \\log p(z)] - \\mathbb{E}_{z \\sim q_i(z)}[\\log q_i(z)] \\\\\n",
    "& = \\mathbb{E}_{z \\sim q_i(z)}[\\log p(x_i|z)] + \\log p(z)] + H(q_i)\n",
    "\\end{align*}\n",
    "$$"
   ]
  },
  {
   "cell_type": "code",
   "execution_count": null,
   "id": "658c1f4a-4c86-4e34-8a05-2f9693a8357b",
   "metadata": {},
   "outputs": [],
   "source": []
  }
 ],
 "metadata": {
  "kernelspec": {
   "display_name": "Python 3 (ipykernel)",
   "language": "python",
   "name": "python3"
  },
  "language_info": {
   "codemirror_mode": {
    "name": "ipython",
    "version": 3
   },
   "file_extension": ".py",
   "mimetype": "text/x-python",
   "name": "python",
   "nbconvert_exporter": "python",
   "pygments_lexer": "ipython3",
   "version": "3.9.15"
  }
 },
 "nbformat": 4,
 "nbformat_minor": 5
}
