{
 "cells": [
  {
   "cell_type": "markdown",
   "id": "d5cdd2cc-3e56-4592-beb7-de06a6de7b5f",
   "metadata": {},
   "source": [
    "* `Prior` : What we already know about $x$. $\\large p(x)$\n",
    "* `Posterior` : What we want to know. $\\large p(z|x)$\n",
    "* `Likelihood` : The probabilistic distribution of what we want to know. $\\large p(x|z)$"
   ]
  },
  {
   "cell_type": "markdown",
   "id": "b3955adb-0322-48c6-89d2-15f1e6b08c15",
   "metadata": {},
   "source": [
    "## Why Variational Inference?\n",
    "\n",
    "The model : $\\large p_{\\theta}(x)$<br>\n",
    "The data : $\\large D = \\{x_1, \\cdot\\cdot\\cdot x_n \\}$<br>\n",
    "Maximum likelihood $\\large \\theta \\leftarrow \\arg \\max\\limits_{\\theta} \\frac{1}{N} \\sum\\limits_{i} log p_{\\theta}(x_i)$<br>\n",
    "Maximum likelihood $\\large \\theta \\leftarrow \\arg \\max\\limits_{\\theta} \\frac{1}{N} \\sum\\limits_{i} log \\int  p_{\\theta}(x_i,z)dz$\n",
    "\n",
    "$\\large \\rightarrow \\int p_{\\theta}(x_i,z)$ is intractable.\n",
    "\n",
    "Alternative solution : $\\large \\theta \\leftarrow \\arg \\max\\limits_{\\theta} \\frac{1}{N} \\sum_i \\mathbb{E}_{z \\sim p(z|x_i)} \\left[ \\log p_\\theta (x_i, z) \\right]$\n",
    "\n",
    "$\\large \\mathbb{E}_{z \\sim p(z|x_i)}$ can be calculated with sampling!"
   ]
  },
  {
   "cell_type": "markdown",
   "id": "5005f4f2-6bcc-4838-9bb3-c33a9d609846",
   "metadata": {},
   "source": [
    "## Convex and Concave Function\n",
    "\n",
    "<img src = \"./img/week7_1.png\" style = \"width : 450px;\">\n",
    "\n",
    "`Convex Function`\n",
    "\n",
    "For all $0 \\le t \\le 1$ and all $x_1, x_2 \\in X$<br>\n",
    "$f(tx_1 + (1-t)x_2) \\le tf(x_1) + (1-t)f(x_2)$<br>\n",
    "ex) $x$, $x^2$, $e^x$\n",
    "\n",
    "`Concave Function`\n",
    "\n",
    "$f$ is concave if $-f$ is convex<br>\n",
    "ex) $\\log x$\n",
    "\n",
    "`Jensen's Inequality`\n",
    "\n",
    "$\\phi(E[X]) \\le E[\\phi(X)]$ where $\\phi$ is convex function<br>\n",
    "$\\phi(E[X]) \\ge E[\\phi(X)]$ where $\\phi$ is concave function<br>\n",
    "ex) $Var(x) = E[x^2] - E[x]^2 \\ge 0 \\rightarrow E[x]^2 \\le E[x^2]$"
   ]
  },
  {
   "cell_type": "markdown",
   "id": "a2c22a5e-b88b-4e3c-9d6b-5da08fb8706e",
   "metadata": {},
   "source": [
    "## Variational Inference\n",
    "\n",
    "$$\\large\n",
    "\\begin{align*}\n",
    "\\log p(x_i) & = \\log \\int p(x_i|z)p(z)dz \\\\\n",
    "& = \\log \\int p(x_i|z)p(z) \\frac{q(z)}{q_i(z)} dz \\\\\n",
    "& = \\log \\mathbb{E}_{z \\sim q_i(z)}\\left[\\frac{p(x_i|z)p(z)}{q_i(z)}\\right] \\\\\n",
    "& \\geq \\mathbb{E}_{z \\sim q_i(z)}\\left[\\log \\frac{p(x_i|z)p(z)}{q_i(z)}\\right] \\\\\n",
    "& = \\mathbb{E}_{z \\sim q_i(z)}[\\log p(x_i|z) + \\log p(z)] - \\mathbb{E}_{z \\sim q_i(z)}[\\log q_i(z)] \\\\\n",
    "& = \\mathbb{E}_{z \\sim q_i(z)}[\\log p(x_i|z)] + \\log p(z)] + H(q_i)\n",
    "\\end{align*}\n",
    "$$"
   ]
  },
  {
   "cell_type": "code",
   "execution_count": null,
   "id": "271bd72f-cf7b-407b-93de-ac1d36858830",
   "metadata": {},
   "outputs": [],
   "source": []
  }
 ],
 "metadata": {
  "kernelspec": {
   "display_name": "Python 3 (ipykernel)",
   "language": "python",
   "name": "python3"
  },
  "language_info": {
   "codemirror_mode": {
    "name": "ipython",
    "version": 3
   },
   "file_extension": ".py",
   "mimetype": "text/x-python",
   "name": "python",
   "nbconvert_exporter": "python",
   "pygments_lexer": "ipython3",
   "version": "3.9.15"
  }
 },
 "nbformat": 4,
 "nbformat_minor": 5
}
