{
 "cells": [
  {
   "cell_type": "markdown",
   "id": "9021f599-04dd-42ab-933a-ca139196471c",
   "metadata": {},
   "source": [
    "* `Prior` : 우리가 알기를 원하는 $Z$에 대해 알고 있는 정보. $\\large p(Z)$\n",
    "* `Posterior` : 우리가 가진 데이터 $X$을 가지고 구하고 싶은 확률분포 $\\large p(z|x)$\n",
    "* `Likelihood` : $Z$가 주어진 경우 입력값 $X$의 확률분포  $\\large p(x|z)$"
   ]
  },
  {
   "cell_type": "markdown",
   "id": "26a5a608-28e6-4084-9f82-ed410c7420f2",
   "metadata": {},
   "source": [
    "# Monte Carlo Method\n",
    "\n",
    "$\\large s \\rightarrow N(\\mu, \\sigma^2) = \\LARGE\n",
    "\\begin{cases}\n",
    "    \\mu = \\mathbb{E}_p[f(x)] \\\\\n",
    "    \\sigma^2 = \\LARGE \\frac{1}{N} \\large \\mathbb{V}_p[f(x)]\\\\\n",
    "\\end{cases}$\n",
    "\n",
    "$\\large \\mathbb{E}_p[f(x)] = \\LARGE \\frac{1}{N} \\large \\sum\\limits_{i=1}^N f(x_i)$, such that $x_i \\sim p(x)$"
   ]
  },
  {
   "cell_type": "markdown",
   "id": "78da00b4-4299-4c2a-bff2-991faeff53c4",
   "metadata": {},
   "source": [
    "# Introduction\n",
    "\n",
    "앞서 소개한 Sampling Method인 `Rejection Sampling`과 `Importance Sampling`은 intractable한 함수 $p(z)$에서 sampling을 하기 위해 고안된 알고리즘이지만, 현재 Neural Network가 요구하는 High Dimension에 가면 여전히 같은 문제점이 발생한다.\n",
    "\n",
    "`Markov Chain Monte Carlo`는 Neural Network의 High Dimension에도 잘 작동하기 때문에 현재 가장 많이 쓰이는 sampling 방법 중 하나이다!\n",
    "\n",
    "어째서 기존 Sampling Methods가 잘 작동되지 않는지 다음 그림을 예시로 들겠다.\n",
    "\n",
    "<img src = \"./img/week0_9.png\" style = \"width : 700px;\">\n",
    "\n",
    "좌측 Importance Sampling으로 $q(z)$을 구한 경우, $z_1, z_2, z_3$을 조정해서 $p(z)$에 더 유사하게 업데이트해야 하는데, 해당 method에서는 $z_1, z_2, z_3$간 서로 `independent`이기 때문에, 유사도가 큰 부분을 집중적으로 업데이트하기 어렵다. --> 특히 very high dimension에서는 더더욱!\n",
    "\n",
    "반면 우측 Markov Chain을 사용한다면, 각 시점 $z_1, z_2, z_3$은 서로에 `dependent`한 variable이기 때문에 유사도가 크게 발생한 부분을 집중적으로 update할 수 있다. 이는 여러 local maximum, minimum이 존재하는 high dimension에서도 성능이 상대적으로 더 잘 나올 수 있는 주요한 이유이다."
   ]
  },
  {
   "cell_type": "markdown",
   "id": "b1892aa5-5921-4b8d-b7ec-03e7de4f1ba3",
   "metadata": {},
   "source": [
    "# Markov Chains\n",
    "\n",
    "<img src = \"./img/week0_12.png\" style = \"width : 550px;\">"
   ]
  },
  {
   "cell_type": "markdown",
   "id": "1c67a696-d3b7-4501-a7bd-9bd11cd2368e",
   "metadata": {},
   "source": [
    "`Markov Chain`이란, $t = 0$ 시점부터 시작해 $q(z_j)$ 식을 한 단계식 계속 업데이트해 수렴해 더이상 파라미터를 변화하지 않는 $p(x)$까지 학습하는 방식이다.\n",
    "\n",
    "위 그림에서 $X_0$ 시점부터 업데이트를 시작해 파라미터를 최적화하다가, $X_B$ 시점에 $P(X)$을 달성하면 해당 분포로 수렴한다.\n",
    "\n",
    "해당 성질을 수식으로 나타내면,\n",
    "\n",
    "$\\large p(z^{(m + 1)}|z^{(1)}, \\cdot\\cdot\\cdot, z^{(m)}) = p(z^{(m+1)}|z^{(m)})$ 이다!\n",
    "\n",
    "특정한 파라미터 값으로 수렴한 markov chain을 **Stationary Markov Chain** 이라고 하고,\n",
    "\n",
    "수렴했을 때 일정해진 $z^{(m)}$, $z^{(m+1)}$간 변환함수가 $T_m(z^{(m)}, z^{(m+1)})$ 이다.\n",
    "\n",
    "$\\large p(x)T(y|x) = p(y)T(x|y)$\n",
    "\n",
    "$\\large \\sum\\limits_{x}p(x)T(y|x) = p(y)\\sum\\limits_{x}T(x|y) = p(y)$"
   ]
  },
  {
   "cell_type": "markdown",
   "id": "d0d30e64-d4f2-4aca-94b2-fa899ea436a5",
   "metadata": {},
   "source": [
    "# Markov Chain Monte Carlo"
   ]
  },
  {
   "cell_type": "markdown",
   "id": "63712872-bc2e-4f70-afa3-d43f23603c84",
   "metadata": {},
   "source": [
    "관계도에서 A부터 E까지 총 5개의 space가 있고 해당 space간 관계가 다음과 같다면,\n",
    "\n",
    "<img src = \"./img/week0_10.png\" style = \"width : 550px;\">\n",
    "\n",
    "여기서 {A, B, C, D, E}은 `Markov Space`, 각 space를 이어주는 선은 매 시점 $t$마다 해당 space에서 다음 space로 넘어가거나 혼자서 iterate할 확률을 뜻한다.\n",
    "\n",
    "한 space에서 다른 space로 넘어갈 transition probability를 matrix로 나타내면 다음과 같다.\n",
    "\n",
    "<img src = \"./img/week0_11.png\" style = \"width : 550px;\">\n",
    "\n",
    "자세한 내용은 스터디에서..."
   ]
  },
  {
   "cell_type": "markdown",
   "id": "3a20a8ec-71eb-4ba3-aef1-84c1989951e0",
   "metadata": {},
   "source": [
    "# Metropolis-Hastins algorithm"
   ]
  },
  {
   "cell_type": "markdown",
   "id": "4309d83b-8023-41c3-beeb-97c56723b280",
   "metadata": {},
   "source": [
    "기존 Markov Chain의 Detailed Balance\n",
    "\n",
    "$\\large p(x)T(y|x) = p(y)T(x|y)$ 을 유지하면서,\n",
    "\n",
    "sampling이 어려운 $\\frac{f(x)}{NC} = p(x)$ 대신 <br> Transition Probability $g(x_{t+1}|x_t)$와 Acceptance Probability $A(x_t \\rightarrow x_{t+1})$을 사용한다.\n",
    "\n",
    "$\\large p(x)T(y|x) = p(y)T(x|y)$\n",
    "\n",
    "$\\large \\frac{f(x)}{NC}g(y|x)A(x \\rightarrow y) = \\frac{f(y)}{NC}g(x|y)A(y \\rightarrow x)$\n",
    "\n",
    "$\\large \\frac{A(x \\rightarrow y)}{A(y \\rightarrow x)} = \\frac{f(y)}{f(x)} \\times \\frac{g(x|y)}{g(y|x)}$\n",
    "\n",
    "$\\large \\frac{f(y)}{f(x)} = r_f$, $\\large \\frac{g(x|y)}{g(y|x)} = r_g$\n",
    "\n",
    "### 1. $r_fr_g < 1$ (x에서 y까지 가는 확률이 작은 경우)\n",
    "\n",
    "$A(x \\rightarrow y) = r_fr_g$<br>\n",
    "$A(y \\rightarrow x) = 1$\n",
    "\n",
    "### 2. $r_fr_g > 1$ (x에서 y까지 가는 확률이 큰 경우)\n",
    "\n",
    "$A(x \\rightarrow y) = 1$<br>\n",
    "$A(y \\rightarrow x) = \\frac{1}{r_fr_g}$\n",
    "\n",
    "So $A(x \\rightarrow y) = \\max(1, r_fr_g)$"
   ]
  },
  {
   "cell_type": "markdown",
   "id": "fedde789-4136-40bf-8b3f-792a67215163",
   "metadata": {},
   "source": [
    "# Gibbs Sampling"
   ]
  },
  {
   "cell_type": "markdown",
   "id": "02933928-c39e-453a-a7ef-4efb537e9e6f",
   "metadata": {},
   "source": [
    "`Gibbs Sampling`은\n",
    "\n",
    "sampling이 어려운 $\\frac{f(x)}{NC} = p(x)$ 대신 <br>\n",
    "$p(x|y)$, $p(y|x)$에서 sampling하기가 더 쉬운 경우 사용!\n",
    "\n",
    "### Procedure\n",
    "\n",
    "1. $(x_0, y_0)$에서 시작\n",
    "2. $x_1$을 $x_1 \\sim p(x_1|y_0)$ 에서 sample\n",
    "3. $y_1$을 $y_1 \\sim p(y_1|x_1)$ 에서 sample\n",
    "4. $x_2$을 $x_2 \\sim p(x_2|y_1)$ 에서 sample\n",
    "\n",
    "특정 epoch or threshold을 넘을 때까지 반복"
   ]
  },
  {
   "cell_type": "markdown",
   "id": "0c37dcc2-4626-4a80-a7eb-b1bd2787b44c",
   "metadata": {},
   "source": [
    "# Hamiltonian Monte Carlo"
   ]
  },
  {
   "cell_type": "markdown",
   "id": "853658c6-ff66-4621-89c1-26cf91365544",
   "metadata": {},
   "source": [
    "스킵"
   ]
  },
  {
   "cell_type": "code",
   "execution_count": null,
   "id": "a9b7926a-b4c6-421c-a015-325363a4bc63",
   "metadata": {},
   "outputs": [],
   "source": []
  }
 ],
 "metadata": {
  "kernelspec": {
   "display_name": "Python 3 (ipykernel)",
   "language": "python",
   "name": "python3"
  },
  "language_info": {
   "codemirror_mode": {
    "name": "ipython",
    "version": 3
   },
   "file_extension": ".py",
   "mimetype": "text/x-python",
   "name": "python",
   "nbconvert_exporter": "python",
   "pygments_lexer": "ipython3",
   "version": "3.9.15"
  }
 },
 "nbformat": 4,
 "nbformat_minor": 5
}
